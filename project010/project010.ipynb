{
 "cells": [
  {
   "cell_type": "code",
   "execution_count": 15,
   "metadata": {},
   "outputs": [],
   "source": [
    "import numpy as np\n",
    "import multiprocessing\n",
    "from concurrent.futures import ThreadPoolExecutor, ProcessPoolExecutor\n",
    "import json\n",
    "import requests\n",
    "from bs4 import BeautifulSoup\n",
    "import time as t"
   ]
  },
  {
   "cell_type": "code",
   "execution_count": 16,
   "metadata": {},
   "outputs": [],
   "source": [
    "url = 'https://polarniczki.pl/'"
   ]
  },
  {
   "cell_type": "code",
   "execution_count": 19,
   "metadata": {},
   "outputs": [
    {
     "name": "stdout",
     "output_type": "stream",
     "text": [
      "Połączyło się z Połączyło się zhttps://polarniczki.pl/idea/ \n",
      "https://polarniczki.pl/kontakt/\n",
      "Połączyło się z https://polarniczki.pl/ksiazka/Połączyło się z\n",
      " https://polarniczki.pl/uczestniczki-wypraw/\n",
      "Parsowanie zakończone. Wyniki zapisano w pliku 'parsed_data.json'.\n",
      "Czas wykonania [ s ]:  1.81\n"
     ]
    }
   ],
   "source": [
    "\n",
    "def parsing(url):\n",
    "    try:\n",
    "        response = requests.get(url)\n",
    "        response.raise_for_status()\n",
    "        print(\"Połączyło się z\", url)\n",
    "        soup = BeautifulSoup(response.text, 'html.parser')\n",
    "        titles = [text.get_text(strip=True) for text in soup.find_all('article')]\n",
    "        return {\"url\": url, \"titles\": titles}\n",
    "    except Exception as e:\n",
    "        return {\"url\": url, \"error\": str(e)}\n",
    "\n",
    "\n",
    "def main():\n",
    "    start = t.time()\n",
    "    base_url = 'https://polarniczki.pl/'\n",
    "    subpages = [\n",
    "        'idea/',\n",
    "        'uczestniczki-wypraw/',\n",
    "        'ksiazka/',\n",
    "        'kontakt/'\n",
    "    ]\n",
    "    urls = [base_url + subpage for subpage in subpages]\n",
    "\n",
    "    p_results = []\n",
    "    with ProcessPoolExecutor(max_workers=multiprocessing.cpu_count()) as executor:\n",
    "        p_results = [executor.submit(parsing, url) for url in urls]\n",
    "\n",
    "\n",
    "    results = [r.result() for r in p_results]\n",
    "    with open('parsed_data.json', 'w', encoding='utf-8') as f:\n",
    "        json.dump(results, f, ensure_ascii=False, indent=4)\n",
    "\n",
    "    end = t.time()\n",
    "    print(\"Parsowanie zakończone. Wyniki zapisano w pliku 'parsed_data.json'.\")\n",
    "    print(\"Czas wykonania [ s ]: \", round(end - start, 2))\n",
    "\n",
    "if __name__ == \"__main__\":\n",
    "    main()"
   ]
  },
  {
   "cell_type": "code",
   "execution_count": null,
   "metadata": {},
   "outputs": [],
   "source": []
  }
 ],
 "metadata": {
  "kernelspec": {
   "display_name": "venv",
   "language": "python",
   "name": "python3"
  },
  "language_info": {
   "codemirror_mode": {
    "name": "ipython",
    "version": 3
   },
   "file_extension": ".py",
   "mimetype": "text/x-python",
   "name": "python",
   "nbconvert_exporter": "python",
   "pygments_lexer": "ipython3",
   "version": "3.12.8"
  }
 },
 "nbformat": 4,
 "nbformat_minor": 2
}
